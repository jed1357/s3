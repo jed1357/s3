{
 "cells": [
  {
   "cell_type": "code",
   "execution_count": 1,
   "metadata": {},
   "outputs": [],
   "source": [
    "from pyspark.sql.types import BooleanType\n",
    "from pyspark.sql.functions import *\n",
    "from pyspark.sql import functions as F\n",
    "from pyspark.sql import SparkSession\n",
    "from pyspark.sql import Window\n",
    "from pyspark.ml.feature import NGram, Tokenizer\n",
    "import pandas as pd"
   ]
  },
  {
   "cell_type": "code",
   "execution_count": 2,
   "metadata": {},
   "outputs": [],
   "source": [
    "spark = SparkSession.builder.getOrCreate()"
   ]
  },
  {
   "cell_type": "code",
   "execution_count": 3,
   "metadata": {},
   "outputs": [],
   "source": [
    "companies = spark.read.csv(\n",
    "            \"companies.csv\", \n",
    "            header=True, inferSchema=True)"
   ]
  },
  {
   "cell_type": "code",
   "execution_count": 4,
   "metadata": {},
   "outputs": [],
   "source": [
    "jobs = spark.read.csv(\n",
    "            \"alldatas.csv\", \n",
    "            header=True, inferSchema=True)"
   ]
  },
  {
   "cell_type": "code",
   "execution_count": 183,
   "metadata": {},
   "outputs": [],
   "source": [
    "companies = companies.withColumnRenamed('description', 'desc')\n"
   ]
  },
  {
   "cell_type": "code",
   "execution_count": 182,
   "metadata": {},
   "outputs": [],
   "source": [
    "# df1.join(df2, df1.id == df2.id).select('df1.*')\n",
    "# companies = companies.select(col(\"description\").alias(\"desc\"))\n",
    "aaa = companies.join(jobs, companies.industry == jobs.description)\n",
    "\n"
   ]
  },
  {
   "cell_type": "code",
   "execution_count": 185,
   "metadata": {},
   "outputs": [],
   "source": [
    "tokens = Tokenizer(inputCol='desc', outputCol='tokens')\n",
    "nn = NGram(n=2, inputCol='tokens', outputCol='ngrams')"
   ]
  },
  {
   "cell_type": "code",
   "execution_count": 186,
   "metadata": {},
   "outputs": [
    {
     "name": "stdout",
     "output_type": "stream",
     "text": [
      "+--------------------+--------------------+\n",
      "|              tokens|              ngrams|\n",
      "+--------------------+--------------------+\n",
      "|[agilent, technol...|[agilent technolo...|\n",
      "|[alcoa, corp, is,...|[alcoa corp, corp...|\n",
      "|[altaba, inc, is,...|[altaba inc, inc ...|\n",
      "+--------------------+--------------------+\n",
      "only showing top 3 rows\n",
      "\n"
     ]
    }
   ],
   "source": [
    "b = tokens.transform(companies)\n",
    "a = nn.transform(b)\n",
    "final = a.select(['tokens', 'ngrams']).show(3)\n"
   ]
  },
  {
   "cell_type": "code",
   "execution_count": 106,
   "metadata": {},
   "outputs": [],
   "source": [
    "def ngrram(dataframe, column, x):\n",
    "    tokens = Tokenizer(inputCol=column, outputCol='tokens')\n",
    "    nn = NGram(n=x, inputCol='tokens', outputCol='ngrams')\n",
    "    b = tokens.transform(dataframe)\n",
    "    a = nn.transform(b)\n",
    "    final = a.select(['tokens', 'ngrams']).show(4)\n",
    "    return final"
   ]
  },
  {
   "cell_type": "code",
   "execution_count": 187,
   "metadata": {},
   "outputs": [
    {
     "name": "stdout",
     "output_type": "stream",
     "text": [
      "+--------------------+--------------------+\n",
      "|              tokens|              ngrams|\n",
      "+--------------------+--------------------+\n",
      "|[agilent, technol...|[agilent technolo...|\n",
      "|[alcoa, corp, is,...|[alcoa corp, corp...|\n",
      "|[altaba, inc, is,...|[altaba inc, inc ...|\n",
      "|[aac, holdings, i...|[aac holdings, ho...|\n",
      "+--------------------+--------------------+\n",
      "only showing top 4 rows\n",
      "\n"
     ]
    }
   ],
   "source": [
    "ngrram(companies, 'desc', 2)\n"
   ]
  },
  {
   "cell_type": "code",
   "execution_count": 188,
   "metadata": {},
   "outputs": [
    {
     "name": "stdout",
     "output_type": "stream",
     "text": [
      "+------------------+--------+\n",
      "|          location|    city|\n",
      "+------------------+--------+\n",
      "|Atlanta, GA 30301 | Atlanta|\n",
      "|       Atlanta, GA| Atlanta|\n",
      "|       Atlanta, GA| Atlanta|\n",
      "|Atlanta, GA 30303 | Atlanta|\n",
      "|       Atlanta, GA| Atlanta|\n",
      "|          AADR.png|AADR.png|\n",
      "|Atlanta, GA 30318 | Atlanta|\n",
      "|Atlanta, GA 30318 | Atlanta|\n",
      "|       Atlanta, GA| Atlanta|\n",
      "|       Atlanta, GA| Atlanta|\n",
      "+------------------+--------+\n",
      "only showing top 10 rows\n",
      "\n"
     ]
    }
   ],
   "source": [
    "loc = a.select('location', F.split(a['location'], ',')[0].alias('city')).show(10)\n",
    "\n",
    "# a.columns\n",
    "# a.select('city').show()"
   ]
  },
  {
   "cell_type": "code",
   "execution_count": 189,
   "metadata": {},
   "outputs": [],
   "source": [
    "ff = a.filter(a.desc.isNotNull()).select(['ngrams', 'location']).select(F.explode('ngrams').alias('ngrams'), 'location', F.split(a['location'], ',')[0].alias('city')).groupBy(['ngrams', 'city']).count()"
   ]
  },
  {
   "cell_type": "code",
   "execution_count": 190,
   "metadata": {},
   "outputs": [
    {
     "name": "stdout",
     "output_type": "stream",
     "text": [
      "+--------------------+-------+-----+\n",
      "|              ngrams|   city|count|\n",
      "+--------------------+-------+-----+\n",
      "|diagnostics labor...|Atlanta|    1|\n",
      "|capital appreciation|Atlanta|    2|\n",
      "|          that helps|Atlanta|    1|\n",
      "|       and solutions|Atlanta|    4|\n",
      "|    services include|Atlanta|    1|\n",
      "+--------------------+-------+-----+\n",
      "only showing top 5 rows\n",
      "\n"
     ]
    }
   ],
   "source": [
    "ff.show(5)"
   ]
  },
  {
   "cell_type": "code",
   "execution_count": null,
   "metadata": {},
   "outputs": [],
   "source": []
  },
  {
   "cell_type": "code",
   "execution_count": 192,
   "metadata": {},
   "outputs": [],
   "source": [
    "gg = a.filter(a.desc.isNotNull()).select(['ngrams', 'industry']).select(F.explode('ngrams').alias('ngrams'), 'industry', F.split(a['industry'], ',')[0].alias('industries')).groupBy(['ngrams', 'industry']).count()"
   ]
  },
  {
   "cell_type": "code",
   "execution_count": 193,
   "metadata": {},
   "outputs": [
    {
     "name": "stdout",
     "output_type": "stream",
     "text": [
      "+--------------------+--------------------+-----+\n",
      "|              ngrams|            industry|count|\n",
      "+--------------------+--------------------+-----+\n",
      "|    washington, d.c.|            Airlines|    1|\n",
      "|    provider serving|Retail - Apparel ...|    1|\n",
      "|plasma-based prod...|       Biotechnology|    1|\n",
      "|   asbury automotive|               Autos|    1|\n",
      "|interception, geo...|Communication Equ...|    1|\n",
      "|         markets. it|Engineering & Con...|    1|\n",
      "|             for the|               REITs|    4|\n",
      "|               and a|Utilities - Regul...|    1|\n",
      "|            the usa,|           Insurance|    1|\n",
      "|       canadian gold|     Metals & Mining|    1|\n",
      "|      namely aethlon|   Computer Hardware|    1|\n",
      "|         provider of| Industrial Products|   11|\n",
      "|      utilities, and|     Credit Services|    2|\n",
      "|      for automotive|Homebuilding & Co...|    1|\n",
      "| wireless networking|Communication Equ...|    1|\n",
      "|           arthur j.| Brokers & Exchanges|    1|\n",
      "|         and branded|  Drug Manufacturers|    3|\n",
      "|         its revenue|               REITs|    6|\n",
      "|        segments are|     Medical Devices|    1|\n",
      "|     company through|            Airlines|    2|\n",
      "+--------------------+--------------------+-----+\n",
      "only showing top 20 rows\n",
      "\n"
     ]
    }
   ],
   "source": [
    "gg.show()"
   ]
  },
  {
   "cell_type": "code",
   "execution_count": null,
   "metadata": {},
   "outputs": [],
   "source": []
  }
 ],
 "metadata": {
  "kernelspec": {
   "display_name": "Python 3",
   "language": "python",
   "name": "python3"
  },
  "language_info": {
   "codemirror_mode": {
    "name": "ipython",
    "version": 3
   },
   "file_extension": ".py",
   "mimetype": "text/x-python",
   "name": "python",
   "nbconvert_exporter": "python",
   "pygments_lexer": "ipython3",
   "version": "3.7.3"
  }
 },
 "nbformat": 4,
 "nbformat_minor": 2
}
